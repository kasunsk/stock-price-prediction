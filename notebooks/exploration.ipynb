# File: notebooks/exploration.ipynb

```
# Jupyter Notebook: exploration.ipynb

# This notebook is used for exploratory data analysis (EDA) on the stock price dataset.

import pandas as pd
import matplotlib.pyplot as plt

# Load the dataset
data = pd.read_csv("../data/stock_data.csv")

# Convert 'Date' to datetime
data['Date'] = pd.to_datetime(data['Date'])

# Plot the closing prices
data.plot(x='Date', y='Close', title='Stock Closing Prices Over Time', figsize=(10, 5))
plt.xlabel('Date')
plt.ylabel('Close Price')
plt.show()

# Calculate moving averages
data['MA_5'] = data['Close'].rolling(window=5).mean()
data['MA_10'] = data['Close'].rolling(window=10).mean()

# Plot moving averages
plt.figure(figsize=(10, 5))
plt.plot(data['Date'], data['Close'], label='Close Price')
plt.plot(data['Date'], data['MA_5'], label='5-Day MA', linestyle='--')
plt.plot(data['Date'], data['MA_10'], label='10-Day MA', linestyle='--')
plt.title('Stock Prices with Moving Averages')
plt.xlabel('Date')
plt.ylabel('Price')
plt.legend()
plt.show()

# Correlation matrix
print("Correlation Matrix:")
print(data.corr())
```